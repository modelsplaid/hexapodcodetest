{
 "cells": [
  {
   "cell_type": "code",
   "execution_count": 1,
   "id": "1c98f59e-6cdb-4547-877d-175dd4ff44ca",
   "metadata": {},
   "outputs": [],
   "source": [
    "from  Xbox import xbox\n",
    "def show(*args):\n",
    "    for arg in args:\n",
    "        print(arg, end=\"\")"
   ]
  },
  {
   "cell_type": "code",
   "execution_count": 2,
   "id": "cf8e5750-af94-460f-b0cc-8fcae98db493",
   "metadata": {},
   "outputs": [],
   "source": [
    "# Print true or false value based on a boolean, without linefeed\n",
    "def showIf(boolean, ifTrue, ifFalse=\" \"):\n",
    "    if boolean:\n",
    "        show(ifTrue)\n",
    "    else:\n",
    "        show(ifFalse)"
   ]
  },
  {
   "cell_type": "code",
   "execution_count": 3,
   "id": "70c59e43-211d-40e2-b9a4-f99ee0496dd9",
   "metadata": {},
   "outputs": [
    {
     "name": "stdout",
     "output_type": "stream",
     "text": [
      "Connected:YYYYYYYYYYYYYYYYYYYYYYYYYYYYY\r"
     ]
    }
   ],
   "source": [
    "joy = xbox.Joystick()\n",
    "while not joy.Back():\n",
    "    show(\"Connected:\")\n",
    "    showIf(joy.connected(), \"Y\", \"N\")\n",
    "    show(chr(13))\n",
    "joy.close()\n",
    "    "
   ]
  },
  {
   "cell_type": "code",
   "execution_count": null,
   "id": "960a8e77-f569-498f-918c-75c9e3edda3e",
   "metadata": {},
   "outputs": [],
   "source": []
  }
 ],
 "metadata": {
  "kernelspec": {
   "display_name": "Python 3",
   "language": "python",
   "name": "python3"
  },
  "language_info": {
   "codemirror_mode": {
    "name": "ipython",
    "version": 3
   },
   "file_extension": ".py",
   "mimetype": "text/x-python",
   "name": "python",
   "nbconvert_exporter": "python",
   "pygments_lexer": "ipython3",
   "version": "3.6.9"
  }
 },
 "nbformat": 4,
 "nbformat_minor": 5
}
